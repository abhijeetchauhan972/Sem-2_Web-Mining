{
  "nbformat": 4,
  "nbformat_minor": 0,
  "metadata": {
    "colab": {
      "provenance": []
    },
    "kernelspec": {
      "name": "python3",
      "display_name": "Python 3"
    },
    "language_info": {
      "name": "python"
    }
  },
  "cells": [
    {
      "cell_type": "code",
      "execution_count": null,
      "metadata": {
        "colab": {
          "base_uri": "https://localhost:8080/"
        },
        "id": "XuiHXX7cxc7L",
        "outputId": "73b1a88d-4775-4307-ac95-b3b38f4d086a"
      },
      "outputs": [
        {
          "output_type": "stream",
          "name": "stderr",
          "text": [
            "[nltk_data] Downloading package wordnet to /root/nltk_data...\n"
          ]
        },
        {
          "output_type": "execute_result",
          "data": {
            "text/plain": [
              "True"
            ]
          },
          "metadata": {},
          "execution_count": 1
        }
      ],
      "source": [
        "import nltk\n",
        "nltk.download('wordnet')"
      ]
    },
    {
      "cell_type": "code",
      "source": [
        "from nltk.stem import PorterStemmer\n",
        "pst = PorterStemmer()\n",
        "pst.stem(\"waiting\")"
      ],
      "metadata": {
        "colab": {
          "base_uri": "https://localhost:8080/",
          "height": 35
        },
        "id": "ChwoFed6yI2v",
        "outputId": "ca0dddb1-b70b-4d71-bd42-e811365e5d71"
      },
      "execution_count": null,
      "outputs": [
        {
          "output_type": "execute_result",
          "data": {
            "text/plain": [
              "'wait'"
            ],
            "application/vnd.google.colaboratory.intrinsic+json": {
              "type": "string"
            }
          },
          "metadata": {},
          "execution_count": 2
        }
      ]
    },
    {
      "cell_type": "code",
      "source": [
        "print('-'*20)\n",
        "print(\"PORTER STEMMER\")\n",
        "print('-'*20)\n",
        "stm = [\"Waiting\",\"Waited\",\"Waits\"]\n",
        "for word in stm:\n",
        "    print(word+\":\"+pst.stem(word))"
      ],
      "metadata": {
        "colab": {
          "base_uri": "https://localhost:8080/"
        },
        "id": "78FRr35uyLhL",
        "outputId": "f8ce9374-88a1-4f96-b764-436f507b2d1a"
      },
      "execution_count": null,
      "outputs": [
        {
          "output_type": "stream",
          "name": "stdout",
          "text": [
            "--------------------\n",
            "PORTER STEMMER\n",
            "--------------------\n",
            "Waiting:wait\n",
            "Waited:wait\n",
            "Waits:wait\n"
          ]
        }
      ]
    },
    {
      "cell_type": "code",
      "source": [
        "print('-'*20)\n",
        "print(\"LANCASTER STEMMER\")\n",
        "print('-'*20)\n",
        "from nltk.stem import LancasterStemmer\n",
        "lst = LancasterStemmer()\n",
        "stm = [\"giving\",\"given\",\"gave\"]\n",
        "for word in stm:\n",
        "    print(word+\":\"+lst.stem(word))"
      ],
      "metadata": {
        "colab": {
          "base_uri": "https://localhost:8080/"
        },
        "id": "UB0QQJ5zyOOS",
        "outputId": "39d6c4ce-036c-45cc-a374-4d99df6b2230"
      },
      "execution_count": null,
      "outputs": [
        {
          "output_type": "stream",
          "name": "stdout",
          "text": [
            "--------------------\n",
            "LANCASTER STEMMER\n",
            "--------------------\n",
            "giving:giv\n",
            "given:giv\n",
            "gave:gav\n"
          ]
        }
      ]
    },
    {
      "cell_type": "code",
      "source": [
        "print('-'*20)\n",
        "print(\"WORD NET LEMMATIZER\")\n",
        "print('-'*20)\n",
        "from nltk.stem import WordNetLemmatizer\n",
        "lemma = WordNetLemmatizer()\n",
        "print(\"rocks :\",lemma.lemmatize(\"rocks\"))\n",
        "print(\"corpora :\",lemma.lemmatize(\"corpora\"))"
      ],
      "metadata": {
        "colab": {
          "base_uri": "https://localhost:8080/"
        },
        "id": "sRIIqRDIyRcl",
        "outputId": "48157039-5498-47df-b376-949b60b9ddd8"
      },
      "execution_count": null,
      "outputs": [
        {
          "output_type": "stream",
          "name": "stdout",
          "text": [
            "--------------------\n",
            "WORD NET LEMMATIZER\n",
            "--------------------\n",
            "rocks : rock\n",
            "corpora : corpus\n"
          ]
        }
      ]
    }
  ]
}