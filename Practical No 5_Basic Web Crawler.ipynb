{
  "cells": [
    {
      "cell_type": "code",
      "execution_count": 1,
      "id": "2c5a4fb7-3623-4426-8b1b-75f14619a74e",
      "metadata": {
        "id": "2c5a4fb7-3623-4426-8b1b-75f14619a74e"
      },
      "outputs": [],
      "source": [
        "import requests"
      ]
    },
    {
      "cell_type": "code",
      "execution_count": 2,
      "id": "33cddb4c-f910-4c3e-95e4-76d3170175d0",
      "metadata": {
        "id": "33cddb4c-f910-4c3e-95e4-76d3170175d0"
      },
      "outputs": [],
      "source": [
        "\n",
        "from bs4 import BeautifulSoup\n"
      ]
    },
    {
      "cell_type": "code",
      "execution_count": 3,
      "id": "85e2e0ce-6202-4716-b67b-4840cc2a378d",
      "metadata": {
        "id": "85e2e0ce-6202-4716-b67b-4840cc2a378d"
      },
      "outputs": [],
      "source": [
        "code=requests.get(\"https://www.google.in\")\n"
      ]
    },
    {
      "cell_type": "code",
      "execution_count": 4,
      "id": "6ec3c03e-c4f2-4cfa-b675-e0350c0cd976",
      "metadata": {
        "id": "6ec3c03e-c4f2-4cfa-b675-e0350c0cd976"
      },
      "outputs": [],
      "source": [
        "plain=code.text\n"
      ]
    },
    {
      "cell_type": "code",
      "execution_count": 5,
      "id": "81a178bc-e226-4cf3-996d-5095b9595994",
      "metadata": {
        "id": "81a178bc-e226-4cf3-996d-5095b9595994"
      },
      "outputs": [],
      "source": [
        "soup=BeautifulSoup(plain,\"html.parser\")"
      ]
    },
    {
      "cell_type": "code",
      "execution_count": 6,
      "id": "7363cd49-b5e6-4ebd-8778-93b2bcd98f9b",
      "metadata": {
        "colab": {
          "base_uri": "https://localhost:8080/"
        },
        "id": "7363cd49-b5e6-4ebd-8778-93b2bcd98f9b",
        "outputId": "f52a0116-2273-4c44-8182-23e8929fe3e9"
      },
      "outputs": [
        {
          "output_type": "stream",
          "name": "stdout",
          "text": [
            "https://www.google.co.in/imghp?hl=en&tab=wi\n",
            "https://maps.google.com/maps?hl=en&tab=wl\n",
            "https://play.google.com/?hl=en&tab=w8\n",
            "https://www.youtube.com/?tab=w1\n",
            "https://news.google.com/?tab=wn\n",
            "https://mail.google.com/mail/?tab=wm\n",
            "https://drive.google.com/?tab=wo\n",
            "https://www.google.com/intl/en/about/products?tab=wh\n",
            "http://www.google.com/history/optout?hl=en\n",
            "/preferences?hl=en\n",
            "https://accounts.google.com/ServiceLogin?hl=en&passive=true&continue=https://www.google.co.in/&ec=GAZAAQ\n",
            "/search?sca_esv=b153c82eb27ce53b&sca_upv=1&ie=UTF-8&q=Etel+Adnan&oi=ddle&ct=320500519&hl=en&si=AKbGX_qWtsfHufXsq_1jeDkJp50FstNngDxsch3EVTUjn7imcEpTaSgpLDrUKW9oMimlejp9c6XL-kWccNG-hfTU3fL7H0LJlbkbEHD-cEl9cgsdqImlGhPdrb7TzQb98pVB3kSQOWfK5vTZnAyxAV5V-YJuIamaaSVoV73m-DTSWaOVb1OHSwE%3D&sa=X&ved=0ahUKEwj5isfrusSFAxV2JkQIHX8GB7UQPQgD\n",
            "/advanced_search?hl=en&authuser=0\n",
            "/intl/en/ads/\n",
            "/services/\n",
            "/intl/en/about.html\n",
            "https://www.google.co.in/setprefdomain?prefdom=US&sig=K_-YopvoM957oux2an4sbbnM2KL_Q%3D\n",
            "/intl/en/policies/privacy/\n",
            "/intl/en/policies/terms/\n"
          ]
        }
      ],
      "source": [
        "\n",
        "for link in soup.find_all('a'):\n",
        "    print(link.get('href'))\n"
      ]
    }
  ],
  "metadata": {
    "kernelspec": {
      "display_name": "Python 3 (ipykernel)",
      "language": "python",
      "name": "python3"
    },
    "language_info": {
      "codemirror_mode": {
        "name": "ipython",
        "version": 3
      },
      "file_extension": ".py",
      "mimetype": "text/x-python",
      "name": "python",
      "nbconvert_exporter": "python",
      "pygments_lexer": "ipython3",
      "version": "3.11.3"
    },
    "colab": {
      "provenance": []
    }
  },
  "nbformat": 4,
  "nbformat_minor": 5
}